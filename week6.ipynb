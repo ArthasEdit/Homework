{
 "cells": [
  {
   "cell_type": "code",
   "execution_count": 47,
   "id": "e9842206",
   "metadata": {},
   "outputs": [
    {
     "name": "stdout",
     "output_type": "stream",
     "text": [
      "46\n",
      "XLVI\n"
     ]
    }
   ],
   "source": [
    "# number = int(input())\n",
    "\n",
    "# ns = [(1000, 'M'),\n",
    "#       (900, 'CM'),\n",
    "#       (500, 'D'),\n",
    "#       (400, 'CD'),\n",
    "#       (100, 'C'),\n",
    "#       (90, 'XC'),\n",
    "#       (50, 'L'),\n",
    "#       (40, 'XL'),\n",
    "#       (10, 'X'),\n",
    "#       (9, 'IX'),\n",
    "#       (5, 'V'),\n",
    "#       (4, 'IV'),\n",
    "#       (1, 'I'),\n",
    "#     ]\n",
    "# ans = ''\n",
    "# for (x, y) in ns:\n",
    "#     (d, number) = divmod(number, x)\n",
    "#     ans += y * d\n",
    "# print(ans)\n",
    "    "
   ]
  },
  {
   "cell_type": "code",
   "execution_count": 40,
   "id": "b261a78f",
   "metadata": {},
   "outputs": [
    {
     "name": "stdout",
     "output_type": "stream",
     "text": [
      "55555\n"
     ]
    },
    {
     "data": {
      "text/plain": [
       "'MMMMMMMMMMMMMMMMMMMMMMMMMMMMMMMMMMMMMMMMMMMMMMMMMMMMMMMDLV'"
      ]
     },
     "execution_count": 40,
     "metadata": {},
     "output_type": "execute_result"
    }
   ],
   "source": [
    "# class py_solution:\n",
    "#     def int_to_Roman(self, num):\n",
    "#         lookup = \n",
    "#         res = ''\n",
    "#         for (n, roman) in lookup:\n",
    "#             (d, num) = divmod(num, n)\n",
    "#             res += roman * d\n",
    "#         return res\n",
    "# num = int(input())\n",
    "\n",
    "# py_solution().int_to_Roman(num)\n"
   ]
  },
  {
   "cell_type": "code",
   "execution_count": 62,
   "id": "603a1b3d",
   "metadata": {},
   "outputs": [
    {
     "name": "stdout",
     "output_type": "stream",
     "text": [
      "900\n",
      "CM\n"
     ]
    }
   ],
   "source": [
    "# number = int(input())\n",
    "# ns = [(1000, 'M'),\n",
    "#       (900, 'CM'),\n",
    "#       (500, 'D'),\n",
    "#       (400, 'CD'),\n",
    "#       (100, 'C'),\n",
    "#       (90, 'XC'),\n",
    "#       (50, 'L'),\n",
    "#       (40, 'XL'),\n",
    "#       (10, 'X'),\n",
    "#       (9, 'IX'),\n",
    "#       (5, 'V'),\n",
    "#       (4, 'IV'),\n",
    "#       (1, 'I'),\n",
    "#     ]\n",
    "# ans = ''\n",
    "# for (x, y) in ns:\n",
    "#     (d, number) = divmod(number, x)\n",
    "#     ans += d * y\n",
    "# print(ans)"
   ]
  },
  {
   "cell_type": "code",
   "execution_count": 100,
   "id": "c1e390f1",
   "metadata": {},
   "outputs": [
    {
     "name": "stdout",
     "output_type": "stream",
     "text": [
      "Enter range B: 5000\n",
      "4999 "
     ]
    }
   ],
   "source": [
    "# ra = int(input('Enter range B: '))\n",
    "# z = list(())\n",
    "# prime = lambda ra: all(ra%i != 0 for i in range(2, int(ra **.5)+1))\n",
    "# for iter in range(1, ra+1):\n",
    "#     if prime(iter) == True:\n",
    "#         z.append(iter)\n",
    "# print(z[-1], end = ' ')\n",
    "            "
   ]
  },
  {
   "cell_type": "code",
   "execution_count": 118,
   "id": "8ebd1850",
   "metadata": {},
   "outputs": [
    {
     "name": "stdout",
     "output_type": "stream",
     "text": [
      "lemon\n",
      "apple\n",
      "grape\n"
     ]
    }
   ],
   "source": [
    "import numpy as np\n",
    "import random as rd\n",
    "array = np.array(['apple', 'lemon', 'grape'])\n",
    "\n",
    "print(rd.choice(array))\n",
    "print(rd.choice(array))\n",
    "print(rd.choice(array))\n"
   ]
  },
  {
   "cell_type": "code",
   "execution_count": 136,
   "id": "18995bd8",
   "metadata": {},
   "outputs": [
    {
     "name": "stdout",
     "output_type": "stream",
     "text": [
      "['apple' 'lemon' 'grape']\n"
     ]
    }
   ],
   "source": [
    "import numpy as np\n",
    "import random as rd\n",
    "array = np.array(['apple', 'lemon', 'grape'])\n",
    "\n",
    "rd.shuffle(array) \n",
    "\n",
    "print(array)\n",
    "\n",
    "#it will change position"
   ]
  },
  {
   "cell_type": "code",
   "execution_count": 265,
   "id": "62815653",
   "metadata": {},
   "outputs": [
    {
     "ename": "ValueError",
     "evalue": "PandasArray must be 1-dimensional.",
     "output_type": "error",
     "traceback": [
      "\u001b[1;31m---------------------------------------------------------------------------\u001b[0m",
      "\u001b[1;31mValueError\u001b[0m                                Traceback (most recent call last)",
      "\u001b[1;32m<ipython-input-265-6c68c81cc20f>\u001b[0m in \u001b[0;36m<module>\u001b[1;34m\u001b[0m\n\u001b[0;32m      5\u001b[0m \u001b[1;33m\u001b[0m\u001b[0m\n\u001b[0;32m      6\u001b[0m \u001b[1;33m\u001b[0m\u001b[0m\n\u001b[1;32m----> 7\u001b[1;33m array = pd.array([[[0, 11, 12, 13],\n\u001b[0m\u001b[0;32m      8\u001b[0m                   \u001b[1;33m[\u001b[0m\u001b[1;36m1\u001b[0m\u001b[1;33m,\u001b[0m \u001b[1;36m2\u001b[0m\u001b[1;33m,\u001b[0m \u001b[1;36m3\u001b[0m\u001b[1;33m,\u001b[0m \u001b[1;36m4\u001b[0m\u001b[1;33m,\u001b[0m \u001b[1;36m5\u001b[0m\u001b[1;33m]\u001b[0m\u001b[1;33m,\u001b[0m\u001b[1;33m\u001b[0m\u001b[1;33m\u001b[0m\u001b[0m\n\u001b[0;32m      9\u001b[0m                   [6, 7, 8, 9, 10]],\n",
      "\u001b[1;32mC:\\ProgramData\\Anaconda3\\lib\\site-packages\\pandas\\core\\construction.py\u001b[0m in \u001b[0;36marray\u001b[1;34m(data, dtype, copy)\u001b[0m\n\u001b[0;32m    348\u001b[0m         \u001b[1;32mreturn\u001b[0m \u001b[0mTimedeltaArray\u001b[0m\u001b[1;33m.\u001b[0m\u001b[0m_from_sequence\u001b[0m\u001b[1;33m(\u001b[0m\u001b[0mdata\u001b[0m\u001b[1;33m,\u001b[0m \u001b[0mdtype\u001b[0m\u001b[1;33m=\u001b[0m\u001b[0mdtype\u001b[0m\u001b[1;33m,\u001b[0m \u001b[0mcopy\u001b[0m\u001b[1;33m=\u001b[0m\u001b[0mcopy\u001b[0m\u001b[1;33m)\u001b[0m\u001b[1;33m\u001b[0m\u001b[1;33m\u001b[0m\u001b[0m\n\u001b[0;32m    349\u001b[0m \u001b[1;33m\u001b[0m\u001b[0m\n\u001b[1;32m--> 350\u001b[1;33m     \u001b[0mresult\u001b[0m \u001b[1;33m=\u001b[0m \u001b[0mPandasArray\u001b[0m\u001b[1;33m.\u001b[0m\u001b[0m_from_sequence\u001b[0m\u001b[1;33m(\u001b[0m\u001b[0mdata\u001b[0m\u001b[1;33m,\u001b[0m \u001b[0mdtype\u001b[0m\u001b[1;33m=\u001b[0m\u001b[0mdtype\u001b[0m\u001b[1;33m,\u001b[0m \u001b[0mcopy\u001b[0m\u001b[1;33m=\u001b[0m\u001b[0mcopy\u001b[0m\u001b[1;33m)\u001b[0m\u001b[1;33m\u001b[0m\u001b[1;33m\u001b[0m\u001b[0m\n\u001b[0m\u001b[0;32m    351\u001b[0m     \u001b[1;32mreturn\u001b[0m \u001b[0mresult\u001b[0m\u001b[1;33m\u001b[0m\u001b[1;33m\u001b[0m\u001b[0m\n\u001b[0;32m    352\u001b[0m \u001b[1;33m\u001b[0m\u001b[0m\n",
      "\u001b[1;32mC:\\ProgramData\\Anaconda3\\lib\\site-packages\\pandas\\core\\arrays\\numpy_.py\u001b[0m in \u001b[0;36m_from_sequence\u001b[1;34m(cls, scalars, dtype, copy)\u001b[0m\n\u001b[0;32m    181\u001b[0m         \u001b[1;32mif\u001b[0m \u001b[0mcopy\u001b[0m \u001b[1;32mand\u001b[0m \u001b[0mresult\u001b[0m \u001b[1;32mis\u001b[0m \u001b[0mscalars\u001b[0m\u001b[1;33m:\u001b[0m\u001b[1;33m\u001b[0m\u001b[1;33m\u001b[0m\u001b[0m\n\u001b[0;32m    182\u001b[0m             \u001b[0mresult\u001b[0m \u001b[1;33m=\u001b[0m \u001b[0mresult\u001b[0m\u001b[1;33m.\u001b[0m\u001b[0mcopy\u001b[0m\u001b[1;33m(\u001b[0m\u001b[1;33m)\u001b[0m\u001b[1;33m\u001b[0m\u001b[1;33m\u001b[0m\u001b[0m\n\u001b[1;32m--> 183\u001b[1;33m         \u001b[1;32mreturn\u001b[0m \u001b[0mcls\u001b[0m\u001b[1;33m(\u001b[0m\u001b[0mresult\u001b[0m\u001b[1;33m)\u001b[0m\u001b[1;33m\u001b[0m\u001b[1;33m\u001b[0m\u001b[0m\n\u001b[0m\u001b[0;32m    184\u001b[0m \u001b[1;33m\u001b[0m\u001b[0m\n\u001b[0;32m    185\u001b[0m     \u001b[1;33m@\u001b[0m\u001b[0mclassmethod\u001b[0m\u001b[1;33m\u001b[0m\u001b[1;33m\u001b[0m\u001b[0m\n",
      "\u001b[1;32mC:\\ProgramData\\Anaconda3\\lib\\site-packages\\pandas\\core\\arrays\\numpy_.py\u001b[0m in \u001b[0;36m__init__\u001b[1;34m(self, values, copy)\u001b[0m\n\u001b[0;32m    163\u001b[0m \u001b[1;33m\u001b[0m\u001b[0m\n\u001b[0;32m    164\u001b[0m         \u001b[1;32mif\u001b[0m \u001b[0mvalues\u001b[0m\u001b[1;33m.\u001b[0m\u001b[0mndim\u001b[0m \u001b[1;33m!=\u001b[0m \u001b[1;36m1\u001b[0m\u001b[1;33m:\u001b[0m\u001b[1;33m\u001b[0m\u001b[1;33m\u001b[0m\u001b[0m\n\u001b[1;32m--> 165\u001b[1;33m             \u001b[1;32mraise\u001b[0m \u001b[0mValueError\u001b[0m\u001b[1;33m(\u001b[0m\u001b[1;34m\"PandasArray must be 1-dimensional.\"\u001b[0m\u001b[1;33m)\u001b[0m\u001b[1;33m\u001b[0m\u001b[1;33m\u001b[0m\u001b[0m\n\u001b[0m\u001b[0;32m    166\u001b[0m \u001b[1;33m\u001b[0m\u001b[0m\n\u001b[0;32m    167\u001b[0m         \u001b[1;32mif\u001b[0m \u001b[0mcopy\u001b[0m\u001b[1;33m:\u001b[0m\u001b[1;33m\u001b[0m\u001b[1;33m\u001b[0m\u001b[0m\n",
      "\u001b[1;31mValueError\u001b[0m: PandasArray must be 1-dimensional."
     ]
    }
   ],
   "source": [
    "#this is pandas array and we can't create array which more than 1 dementional with pandas array\n",
    "\n",
    "import numpy as np\n",
    "import pandas as pd\n",
    "\n",
    "                   \n",
    "array = pd.array([\n",
    "                [[0, 11, 12, 13],\n",
    "                  [1, 2, 3, 4, 5],\n",
    "                  [6, 7, 8, 9, 10]],\n",
    "                  \n",
    "                 [[0, 11, 12, 13],\n",
    "                  [1, 2, 3, 4, 5],\n",
    "                  [6, 7, 8, 9, 10]]\n",
    "                 \n",
    "                 ])\n",
    "print(array.ndim)\n",
    "print(array.shape)\n",
    "print(array.dtype)\n"
   ]
  },
  {
   "cell_type": "code",
   "execution_count": 170,
   "id": "493c4cd1",
   "metadata": {},
   "outputs": [
    {
     "name": "stdout",
     "output_type": "stream",
     "text": [
      "4\n",
      "(4, 1, 1, 4)\n",
      "int32\n"
     ]
    }
   ],
   "source": [
    "import numpy as np\n",
    "import pandas as pd\n",
    "\n",
    "array = np.array([\n",
    "                    [\n",
    "                        [\n",
    "                            [1, 2, 3, 4]\n",
    "                        ]\n",
    "                    ],\n",
    "                    [\n",
    "                        [\n",
    "                            [1, 2, 3, 4]\n",
    "                        ]\n",
    "                    ],\n",
    "                    [\n",
    "                        [\n",
    "                            [1, 2, 3, 4]\n",
    "                        ]\n",
    "                    ],\n",
    "                    [\n",
    "                        [\n",
    "                            [1, 2, 3, 4]\n",
    "                        ]\n",
    "                    ]\n",
    "                ])\n",
    "print(array.ndim)\n",
    "print(array.shape)\n",
    "print(array.dtype)\n"
   ]
  },
  {
   "cell_type": "code",
   "execution_count": 172,
   "id": "4c332801",
   "metadata": {},
   "outputs": [
    {
     "data": {
      "image/png": "[encoded data removed]",
      "text/plain": [
       "<PIL.PngImagePlugin.PngImageFile image mode=RGB size=634x514 at 0x206A9A8E730>"
      ]
     },
     "execution_count": 172,
     "metadata": {},
     "output_type": "execute_result"
    }
   ],
   "source": [
    "#there is some difference between array and list in list it will save data spreadly but array save together. I will try to show you :)\n",
    "\n",
    "import numpy as np\n",
    "\n",
    "from PIL import Image\n",
    "\n",
    "l = list(('a', 'b', 'c')) #it will save a b c like l1 = a | l2=b l3 = c\n",
    "\n",
    "a = np.array(['a', 'b', 'c']) #it will save a = a, b, c\n",
    "\n",
    "Image.open('array.png') #arrays will save data when they found the box which has enough memory to save data like check blue it hasn't not enough space check red if it hasn't enough memory it will check again and again untill it find"
   ]
  },
  {
   "cell_type": "code",
   "execution_count": 252,
   "id": "823cb1f2",
   "metadata": {
    "scrolled": false
   },
   "outputs": [
    {
     "data": {
      "image/png": "[encoded data removed]",
      "text/plain": [
       "<Figure size 864x432 with 1 Axes>"
      ]
     },
     "metadata": {
      "needs_background": "light"
     },
     "output_type": "display_data"
    }
   ],
   "source": [
    "import pandas as pd\n",
    "import matplotlib.pyplot as plt\n",
    "import numpy as np\n",
    "data = pd.read_csv('richests.csv', sep = ';')\n",
    "yt = [0.1,0.3, 0.5, 1, 2, 3, 4]\n",
    "xt = [data['years']]\n",
    "# print(data['Bill Gates'])\n",
    "x = [data['years']]\n",
    "y = [data['Bill Gates']]\n",
    "\n",
    "font = {\n",
    "    'color':'green',\n",
    "    'size':18,\n",
    "    'fontfamily':'algerian'  \n",
    "}\n",
    "plt.rcParams['figure.figsize'] = (12, 6)\n",
    "plt.plot(x, y, marker='>', ms=20)\n",
    "plt.title('Bill Gates rankings in top richest people over the world!', fontdict=font)\n",
    "plt.ylabel('Rank of Bill Gates', fontdict=font, color='red')\n",
    "plt.xlabel('Year by year', fontdict=font, color='orange')\n",
    "plt.yticks((-3, -2, -1, 0, 1, 2, 3, 4, 5), size=20)\n",
    "plt.xticks((2010, 2011, 2012, 2013, 2014, 2015, 2016, 2017, 2018, 2019, 2020, 2021), size=18)\n",
    "plt.grid()\n",
    "plt.show()"
   ]
  },
  {
   "cell_type": "code",
   "execution_count": 83,
   "id": "766f3dce",
   "metadata": {},
   "outputs": [
    {
     "name": "stdout",
     "output_type": "stream",
     "text": [
      "Index 0 in supplies is: pens\n",
      "Index 1 in supplies is: staplers\n",
      "Index 2 in supplies is: flamethrowers\n",
      "Index 3 in supplies is: binders\n"
     ]
    }
   ],
   "source": [
    "# supplies = ['pens', 'staplers', 'flamethrowers', 'binders']\n",
    "\n",
    "# for i in range(len(supplies)):\n",
    "#     print('Index ' + str(i) + ' in supplies is: ' + supplies[i])"
   ]
  },
  {
   "cell_type": "code",
   "execution_count": 89,
   "id": "0004d04a",
   "metadata": {},
   "outputs": [
    {
     "name": "stdout",
     "output_type": "stream",
     "text": [
      "Index 0 in supplies is: pens\n",
      "Index 1 in supplies is: staplers\n",
      "Index 2 in supplies is: flamethrowers\n",
      "Index 3 in supplies is: binders\n"
     ]
    }
   ],
   "source": [
    "supplies = ['pens', 'staplers', 'flamethrowers', 'binders']\n",
    "\n",
    "for (index, item) in enumerate(supplies):\n",
    "    print('Index ' + str(index) + ' in supplies is: ' + item)"
   ]
  },
  {
   "cell_type": "code",
   "execution_count": 88,
   "id": "d6809451",
   "metadata": {},
   "outputs": [
    {
     "name": "stdout",
     "output_type": "stream",
     "text": [
      "Index 0 in supplies is: pens\n",
      "Index 1 in supplies is: staplers\n",
      "Index 2 in supplies is: flamethrowers\n",
      "Index 3 in supplies is: binders\n"
     ]
    }
   ],
   "source": [
    "upplies = ['pens', 'staplers', 'flamethrowers', 'binders']\n",
    "\n",
    "for index, item in enumerate(supplies):\n",
    "\n",
    "  print('Index ' + str(index) + ' in supplies is: ' + item)"
   ]
  },
  {
   "cell_type": "code",
   "execution_count": 151,
   "id": "ca7f54b2",
   "metadata": {},
   "outputs": [
    {
     "name": "stdout",
     "output_type": "stream",
     "text": [
      "[4, 5, 6, 7]\n"
     ]
    }
   ],
   "source": [
    "ls = [1, 0, 3, 4, 5, 6]\n",
    "z = []\n",
    "for index, item in enumerate(ls):\n",
    "    if ls[index-1]< item:\n",
    "        z.append(item+1)\n",
    "        if item not in ls:\n",
    "            z[index] = 0\n",
    "            \n",
    "print(z)     \n",
    "            "
   ]
  },
  {
   "cell_type": "code",
   "execution_count": 155,
   "id": "009876a3",
   "metadata": {},
   "outputs": [
    {
     "name": "stdout",
     "output_type": "stream",
     "text": [
      "[1, 2, 3, 4, 5, 6, 0]\n"
     ]
    }
   ],
   "source": [
    "ls = [1, 2, 3, 4, 5, 6] \n",
    "if 7 not in ls:\n",
    "    ls.append(0)\n",
    "    print(ls)"
   ]
  },
  {
   "cell_type": "code",
   "execution_count": 159,
   "id": "362d1ec3",
   "metadata": {},
   "outputs": [
    {
     "name": "stdout",
     "output_type": "stream",
     "text": [
      "[1, 2, 3, 4, 5, 6]\n",
      "[1, 2, 3, 4, 5]\n"
     ]
    }
   ],
   "source": [
    "ls = [1, 3, 4, 5, 6]\n",
    "ls.insert(1, 2)\n",
    "print(ls)\n",
    "ls.remove(6)\n",
    "print(ls)"
   ]
  },
  {
   "cell_type": "code",
   "execution_count": 212,
   "id": "55b38a16",
   "metadata": {},
   "outputs": [
    {
     "name": "stdout",
     "output_type": "stream",
     "text": [
      "George\n",
      "John\n",
      "Mary\n",
      "George\n",
      "Alex\n",
      "Terry\n",
      "George\n"
     ]
    }
   ],
   "source": [
    "from random import *\n",
    "\n",
    "messages = [\n",
    "    'John',\n",
    "    'Alex',\n",
    "    'Mary',\n",
    "    'Lucy',\n",
    "    'Anna',\n",
    "    'Jake',\n",
    "    'George',\n",
    "    'Terry',\n",
    "    'Joana'\n",
    "]\n",
    "for i in range(1, len(messages)-1):\n",
    "    print(messages[randint(0, len(messages) - 1)])"
   ]
  },
  {
   "cell_type": "code",
   "execution_count": 214,
   "id": "d0ce7880",
   "metadata": {},
   "outputs": [
    {
     "name": "stdout",
     "output_type": "stream",
     "text": [
      ">>>A<<< \n",
      "\n",
      ">>>r<<< \n",
      "\n",
      ">>>t<<< \n",
      "\n",
      ">>>h<<< \n",
      "\n",
      ">>>a<<< \n",
      "\n",
      ">>>s<<< \n",
      "\n",
      ">>>E<<< \n",
      "\n",
      ">>>d<<< \n",
      "\n",
      ">>>i<<< \n",
      "\n",
      ">>>t<<< \n",
      "\n"
     ]
    }
   ],
   "source": [
    "name = 'ArthasEdit'\n",
    "for i in name:\n",
    "    print('>>>' + i + '<<<', '\\n')"
   ]
  },
  {
   "cell_type": "code",
   "execution_count": 253,
   "id": "d97b71b2",
   "metadata": {},
   "outputs": [
    {
     "data": {
      "image/png": "[encoded data removed]",
      "text/plain": [
       "<Figure size 864x432 with 1 Axes>"
      ]
     },
     "metadata": {
      "needs_background": "light"
     },
     "output_type": "display_data"
    }
   ],
   "source": [
    "import pandas as pd\n",
    "import matplotlib.pyplot as plt\n",
    "import numpy as np\n",
    "data = pd.read_csv('richests2.csv', sep = ';')\n",
    "yt = [0.1,0.3, 0.5, 1, 2, 3, 4]\n",
    "xt = [data['years']]\n",
    "# print(data['Bill Gates'])\n",
    "x = [data['years']]\n",
    "y = [data['Carlos Slim']]\n",
    "\n",
    "font = {\n",
    "    'color':'green',\n",
    "    'size':18,\n",
    "    'fontfamily':'sans-serif'  \n",
    "}\n",
    "plt.rcParams['figure.figsize'] = (12, 6)\n",
    "plt.plot(x, y, marker='x', ms=20, color='red')\n",
    "plt.title('Carlos Slim rankings in top richest people over the world!', fontdict=font)\n",
    "plt.ylabel('Rank of Carlos Slim', fontdict=font, color='red')\n",
    "plt.xlabel('Year by year', fontdict=font, color='orange')\n",
    "plt.grid()\n",
    "plt.show()"
   ]
  },
  {
   "cell_type": "code",
   "execution_count": 255,
   "id": "d0418df5",
   "metadata": {},
   "outputs": [
    {
     "data": {
      "image/png": "[encoded data removed]",
      "text/plain": [
       "<Figure size 864x432 with 1 Axes>"
      ]
     },
     "metadata": {
      "needs_background": "light"
     },
     "output_type": "display_data"
    }
   ],
   "source": [
    "import matplotlib.pyplot as plt\n",
    "import pandas as pd\n",
    "data = pd.read_csv('richests2.csv', sep=';')\n",
    "z = data['years']\n",
    "l = data['Carlos Slim']\n",
    "x = [z]\n",
    "y = [l]\n",
    "plt.plot(x, y, 'o', ms=20)\n",
    "plt.yticks((1, 2, 3, 4, 5, 6, 7, 8, 9, 10, 11, 12))\n",
    "plt.xticks((2010, 2011, 2012, 2013, 2014, 2015, 2016, 2017, 2018, 2019, 2020))\n",
    "plt.grid()\n",
    "plt.show()"
   ]
  },
  {
   "cell_type": "code",
   "execution_count": null,
   "id": "2a4688a3",
   "metadata": {},
   "outputs": [],
   "source": []
  }
 ],
 "metadata": {
  "kernelspec": {
   "display_name": "Python 3",
   "language": "python",
   "name": "python3"
  },
  "language_info": {
   "codemirror_mode": {
    "name": "ipython",
    "version": 3
   },
   "file_extension": ".py",
   "mimetype": "text/x-python",
   "name": "python",
   "nbconvert_exporter": "python",
   "pygments_lexer": "ipython3",
   "version": "3.8.8"
  }
 },
 "nbformat": 4,
 "nbformat_minor": 5
}

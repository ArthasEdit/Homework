{
 "cells": [
  {
   "cell_type": "code",
   "execution_count": 3,
   "id": "001ba159",
   "metadata": {},
   "outputs": [
    {
     "name": "stdout",
     "output_type": "stream",
     "text": [
      "I am thinking of a number between 1 and 40\n",
      "Take a guess.\n",
      "20\n",
      "Your guess is too low.\n",
      "Take a guess.\n",
      "30\n",
      "Your guess is too low.\n",
      "Take a guess.\n",
      "35\n",
      "Your guess is too low.\n",
      "Take a guess.\n",
      "38\n",
      "Your guess is too high.\n",
      "Take a guess.\n",
      "36\n",
      "Good job! You guessed my number in 5guesses!\n"
     ]
    }
   ],
   "source": [
    "import random\n",
    "secretNumber = random.randint(1, 40)\n",
    "print('I am thinking of a number between 1 and 40')\n",
    "\n",
    "for guessesTaken in range(1, 10):\n",
    "    print('Take a guess.')\n",
    "    guess = int(input())\n",
    "\n",
    "    if guess < secretNumber:\n",
    "        print('Your guess is too low.')\n",
    "    elif guess > secretNumber:\n",
    "        print('Your guess is too high.')\n",
    "    else:\n",
    "        break \n",
    "\n",
    "if guess == secretNumber:\n",
    "    print('Good job! You guessed my number in ' + str(guessesTaken) + 'guesses!')\n",
    "else:\n",
    "    print('Nope. The number I was thinking of was ' + str(secretNumber))"
   ]
  },
  {
   "cell_type": "code",
   "execution_count": 11,
   "id": "56560f1a",
   "metadata": {},
   "outputs": [
    {
     "name": "stdout",
     "output_type": "stream",
     "text": [
      "I'm thinking a number between 1 and 50! Guess it\n",
      "25\n",
      "Your guess is too low\n",
      "40\n",
      "Your guess is too low\n",
      "45\n",
      "Your guess is too low\n",
      "58\n",
      "Your guess is too high\n",
      "48\n",
      "Your guess is too low\n",
      "49\n",
      "Nice. You found it in 6 . I thought about  49\n"
     ]
    }
   ],
   "source": [
    "import random\n",
    "secretNumber = random.randint(1, 50)\n",
    "print(\"I'm thinking a number between 1 and 50! Guess it\")\n",
    "\n",
    "for guesstaken in range(1, 10):\n",
    "    guess  = int(input())\n",
    "    if guess < secretNumber:\n",
    "        print('Your guess is too low')\n",
    "    elif guess > secretNumber:\n",
    "        print('Your guess is too high')\n",
    "    else:\n",
    "        break\n",
    "        \n",
    "if guess == secretNumber:\n",
    "    print('Nice. You found it in', str(guesstaken), ' guesses. I thought about ', guess)\n",
    "else:\n",
    "    print('Unfortunately you failed :( I thought about ', str(secretNumber))"
   ]
  },
  {
   "cell_type": "code",
   "execution_count": 40,
   "id": "58539a3e",
   "metadata": {},
   "outputs": [
    {
     "name": "stdout",
     "output_type": "stream",
     "text": [
      "I'm thinking about a name between  ['Harry', 'John', 'Jake'] Guess it!\n",
      "harry\n",
      "You found it in  1 guesses\n"
     ]
    }
   ],
   "source": [
    "#this is for names :)\n",
    "\n",
    "import random\n",
    "\n",
    "myl = list(('Harry', 'John', 'Jake'))\n",
    "x = myl[random.randint(0, 2)]\n",
    "x = x.lower()\n",
    "print(\"I'm thinking about a name between \", myl, \"Guess it!\")\n",
    "\n",
    "for guesstaken in range(1, 3):\n",
    "    guess = input()\n",
    "    if guess != x and guesstaken != 2:\n",
    "        print('Choose another one', myl)\n",
    "    else:\n",
    "        break\n",
    "if guess == x:\n",
    "    print('You found it in ', str(guesstaken), 'guesses')\n",
    "else:\n",
    "    x = x.capitalize()\n",
    "    print(\"You couldn't find! I thought about\", x)"
   ]
  },
  {
   "cell_type": "code",
   "execution_count": null,
   "id": "b7be7a67",
   "metadata": {},
   "outputs": [],
   "source": []
  }
 ],
 "metadata": {
  "kernelspec": {
   "display_name": "Python 3",
   "language": "python",
   "name": "python3"
  },
  "language_info": {
   "codemirror_mode": {
    "name": "ipython",
    "version": 3
   },
   "file_extension": ".py",
   "mimetype": "text/x-python",
   "name": "python",
   "nbconvert_exporter": "python",
   "pygments_lexer": "ipython3",
   "version": "3.8.8"
  }
 },
 "nbformat": 4,
 "nbformat_minor": 5
}

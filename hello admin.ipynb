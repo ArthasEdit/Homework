{
 "cells": [
  {
   "cell_type": "code",
   "execution_count": 91,
   "id": "e1878f5f",
   "metadata": {},
   "outputs": [
    {
     "name": "stdout",
     "output_type": "stream",
     "text": [
      "Print something: asdf\n",
      "You should use: president/celebration/independence\n",
      "president\n"
     ]
    }
   ],
   "source": [
    "from PIL import Image\n",
    "\n",
    "pre = Image.open(\"1.jpg\")\n",
    "cel = Image.open(\"2.jpg\")\n",
    "ind = Image.open(\"3.jpg\")\n",
    "a = input(\"Print something: \")\n",
    "\n",
    "while True:\n",
    "    if a == \"president\":\n",
    "        pre.show()\n",
    "        break\n",
    "    elif a == \"celebration\":\n",
    "        cel.show()\n",
    "        break\n",
    "    elif a == \"independence\":\n",
    "        ind.show()\n",
    "        break\n",
    "    else:\n",
    "        print(\"You should use: president/celebration/independence\")\n",
    "        a = input()\n"
   ]
  },
  {
   "cell_type": "code",
   "execution_count": null,
   "id": "321b256a",
   "metadata": {},
   "outputs": [],
   "source": [
    "# This is a guess the number game.\n",
    "import random\n",
    "secretNumber = random.randint(1, 20)\n",
    "print('I am thinking of a number between 1 and 20.')\n",
    "\n",
    "# Ask the player to guess 6 times.\n",
    "for guessesTaken in range(1, 7):\n",
    "    print('Take a guess.')\n",
    "    guess = int(input())\n",
    "\n",
    "    if guess < secretNumber:\n",
    "        print('Your guess is too low.')\n",
    "    elif guess > secretNumber:\n",
    "        print('Your guess is too high.')\n",
    "    else:\n",
    "        break    # This condition is the correct guess!\n",
    "\n",
    "if guess == secretNumber:\n",
    "    print('Good job! You guessed my number in ' + str(guessesTaken) + 'guesses!')\n",
    "else:\n",
    "    print('Nope. The number I was thinking of was ' + str(secretNumber))"
   ]
  },
  {
   "cell_type": "code",
   "execution_count": 89,
   "id": "fad3602f",
   "metadata": {},
   "outputs": [
    {
     "name": "stdout",
     "output_type": "stream",
     "text": [
      "Type programming language name for getting few informationasdfasdf\n",
      "I don't know about this type of programming language :O! You can use following commands\n",
      "1 JavaScript\n",
      "2 HTML\n",
      "3 CSS\n",
      "4 BootStrap\n"
     ]
    }
   ],
   "source": [
    "text = input('Type programming language name for getting few information')\n",
    "\n",
    "def listOfLang():\n",
    "    global z\n",
    "    z = list(('JavaScript', 'HTML', 'CSS', 'BootStrap'))\n",
    "    r = 0\n",
    "    for i in z:\n",
    "        r +=1\n",
    "        print(r, i)\n",
    "\n",
    "js = \"JavaScript is also programming language! You can use it so many things like easy-animating, moving smth and so on. :)\"\n",
    "html = 'HTML is not programming language it is concreate of programming you can create website with HTML'\n",
    "css = 'We can create a beautiful design with CSS for HTML'\n",
    "bs = \"BootStrap is library of CSS. it is also used for designing!\"\n",
    "        \n",
    "def question():\n",
    "    if text == \"javascript\":\n",
    "        print(js)\n",
    "    elif text == \"html\":\n",
    "        print(html)\n",
    "    elif text == \"css\":\n",
    "        print(css)\n",
    "    elif text == 'bootstrap':\n",
    "        print(bs)\n",
    "    else:\n",
    "        print(\"I don't know about this type of programming language :O! You can use following commands\")\n",
    "        listOfLang()\n",
    "question()"
   ]
  },
  {
   "cell_type": "code",
   "execution_count": 104,
   "id": "0e676d10",
   "metadata": {},
   "outputs": [
    {
     "name": "stdout",
     "output_type": "stream",
     "text": [
      "Log in Name: harry\n",
      "Hello harry. Thanks for logging in to our website\n",
      "type 'log out' for log out: log out\n",
      "Log in Name: admin\n",
      "Welcome to your own Website admin! Do you wanna see members of your website?(yes/no)\n",
      "Answer: yes\n",
      "1 John\n",
      "2 Arthas\n",
      "3 Admin\n",
      "4 Alex\n",
      "5 George\n",
      "6 Harry\n"
     ]
    }
   ],
   "source": [
    "usernames = ['john', 'arthas', 'admin', 'alex', 'george'] #listNames\n",
    "\n",
    "x = input(\"Log in Name: \") #log in name\n",
    "x = x.lower()\n",
    "\n",
    "def ans():\n",
    "    ans = input(\"type 'log out' for log out: \")\n",
    "    if ans == 'log out':\n",
    "        global x \n",
    "        x = input(\"Log in Name: \").lower()\n",
    "        pass\n",
    "\n",
    "for inn in usernames: #checking list\n",
    "    if x not in usernames: #if the log in name is not in list it will greet with this type\n",
    "        usernames.append(x)\n",
    "        print(\"Hello \" + x + \". Thanks for logging in to our website\")\n",
    "        ans()\n",
    "        #if this conditional is true it will break from this line!\n",
    "    elif x != \"admin\": #if x is not equal to \"Admin\" it but this name in list it will greet with this type\n",
    "        print(\"Hello \" + x + \". Thanks for logging in again\")\n",
    "        ans()\n",
    "        #if this conditional is true it will break from this line!\n",
    "    elif x == 'admin': #if x is equal to \"Admin\" it will greet with this type\n",
    "        print('Welcome to your own Website ' + x + \"! Do you wanna see members of your website?(yes/no)\")\n",
    "        ans = input(\"Answer: \")\n",
    "        r = 0\n",
    "        if ans == \"yes\":\n",
    "            for i in usernames:\n",
    "                r +=1\n",
    "                print(r, i.capitalize())\n",
    "        break"
   ]
  },
  {
   "cell_type": "code",
   "execution_count": null,
   "id": "e6f6ca34",
   "metadata": {},
   "outputs": [],
   "source": []
  }
 ],
 "metadata": {
  "kernelspec": {
   "display_name": "Python 3",
   "language": "python",
   "name": "python3"
  },
  "language_info": {
   "codemirror_mode": {
    "name": "ipython",
    "version": 3
   },
   "file_extension": ".py",
   "mimetype": "text/x-python",
   "name": "python",
   "nbconvert_exporter": "python",
   "pygments_lexer": "ipython3",
   "version": "3.8.8"
  }
 },
 "nbformat": 4,
 "nbformat_minor": 5
}

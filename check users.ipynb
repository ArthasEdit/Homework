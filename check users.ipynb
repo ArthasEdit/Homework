{
 "cells": [
  {
   "cell_type": "code",
   "execution_count": 35,
   "id": "ecac51ca",
   "metadata": {},
   "outputs": [
    {
     "name": "stdout",
     "output_type": "stream",
     "text": [
      "You should enter another Login name! John\n",
      "Thanks to log in again Mary\n",
      "Thanks to log in again Harry\n",
      "Thanks to log in again Alex\n",
      "You should enter another Login name! Anna\n"
     ]
    }
   ],
   "source": [
    "current_users = list(('John', 'Mary', 'Harry', 'Alex', 'Anna'))\n",
    "new_users = list(('John', 'Emma', 'Donald', 'Lucy', 'Anna'))\n",
    "\n",
    "\n",
    "for x in current_users:\n",
    "    if x not in new_users:\n",
    "        print('Thanks to log in again', x)\n",
    "    if x in new_users:\n",
    "        print('You should enter another Login name!', x)"
   ]
  },
  {
   "cell_type": "code",
   "execution_count": 51,
   "id": "ac5207d5",
   "metadata": {},
   "outputs": [
    {
     "name": "stdout",
     "output_type": "stream",
     "text": [
      "Create username: JoHn\n",
      "JoHn is already used.\n",
      "Please type another one! JOhn\n",
      "JOhn is already used.\n",
      "Please type another one! john\n",
      "john is already used.\n",
      "Please type another one! mary\n",
      "mary is already used.\n",
      "Please type another one! MaRy\n",
      "MaRy is already used.\n",
      "Please type another one! Arthas\n",
      "You are registrated successful!\n"
     ]
    }
   ],
   "source": [
    "current_users = list(('john', 'mary', 'harry', 'alex', 'anna'))\n",
    "new_users = list(())\n",
    "\n",
    "ans = input('Create username: ')\n",
    "\n",
    "while True:\n",
    "    x = ans.lower()\n",
    "    if x in current_users:\n",
    "        print(ans, 'is already used.')\n",
    "        ans = input('Please type another one! ')\n",
    "    elif ans not in current_users:\n",
    "        new_users.append(ans)\n",
    "        print('You are registrated successful!')\n",
    "        break"
   ]
  },
  {
   "cell_type": "code",
   "execution_count": 20,
   "id": "3625184c",
   "metadata": {},
   "outputs": [
    {
     "name": "stdout",
     "output_type": "stream",
     "text": [
      "a\n"
     ]
    }
   ],
   "source": []
  },
  {
   "cell_type": "code",
   "execution_count": null,
   "id": "c7b2e8ae",
   "metadata": {},
   "outputs": [],
   "source": []
  }
 ],
 "metadata": {
  "kernelspec": {
   "display_name": "Python 3",
   "language": "python",
   "name": "python3"
  },
  "language_info": {
   "codemirror_mode": {
    "name": "ipython",
    "version": 3
   },
   "file_extension": ".py",
   "mimetype": "text/x-python",
   "name": "python",
   "nbconvert_exporter": "python",
   "pygments_lexer": "ipython3",
   "version": "3.8.8"
  }
 },
 "nbformat": 4,
 "nbformat_minor": 5
}
